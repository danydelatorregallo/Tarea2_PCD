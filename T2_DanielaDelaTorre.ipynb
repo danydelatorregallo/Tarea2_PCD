{
 "cells": [
  {
   "metadata": {},
   "cell_type": "markdown",
   "source": "# Tarea 2",
   "id": "43e4bfd255cf8a6c"
  },
  {
   "metadata": {},
   "cell_type": "markdown",
   "source": [
    "¿Qué es MLOps?\n",
    "\n",
    "Es una forma de trabajar con proyectos de machine learning para que no solo se creen modelos, sino que también se puedan poner en producción, mantener y mejorar sin tanto trabajo manual.\n",
    "Une el trabajo de los que hacen modelos (científicos de datos) con los que los ponen en marcha (ingenieros o equipos de TI).\n",
    "\n",
    "¿Por qué sirve?\n",
    "\n",
    "Porque un modelo no se queda igual para siempre:\n",
    "\n",
    "Los datos cambian.\n",
    "\n",
    "Hay que volver a entrenar los modelos.\n",
    "\n",
    "Se deben vigilar y actualizar constantemente.\n",
    "\n",
    "MLOps ayuda a hacer todo esto de manera más rápida y organizada.\n",
    "\n",
    "Principios básicos de MLOps\n",
    "\n",
    "Guardar versiones → tener control de qué modelo, código o datos se usaron para poder repetir o revisar.\n",
    "\n",
    "Automatizar → que el proceso (limpieza de datos, entrenamiento, pruebas, despliegue) se haga casi solo, sin tener que hacerlo manualmente.\n",
    "\n",
    "Continuidad → que siempre que algo cambie (datos, código o modelo) se actualice automáticamente.\n",
    "\n",
    "Gobernanza → reglas claras para documentar, controlar accesos y revisar que los modelos sean justos y sin sesgos.\n",
    "\n",
    "Beneficios\n",
    "\n",
    "Más rápido: se llega antes al resultado porque todo está automatizado.\n",
    "\n",
    "Más productivo: equipos trabajan mejor y sin repetir tareas.\n",
    "\n",
    "Más confiable: los modelos se revisan y actualizan solos, sin perder calidad.\n",
    "\n",
    "Niveles de madurez\n",
    "\n",
    "Nivel 0: todo manual (se entrega el modelo y listo, sin automatización).\n",
    "\n",
    "Nivel 1: algo de automatización (el modelo se entrena y despliega solo cada cierto tiempo).\n",
    "\n",
    "Nivel 2: automatización total (todo se hace de forma continua y en paralelo, incluso pruebas y reentrenamientos).\n",
    "\n",
    "Diferencia con DevOps\n",
    "\n",
    "DevOps: se usa para manejar proyectos de software normal.\n",
    "\n",
    "MLOps: es lo mismo, pero aplicado a proyectos de machine learning, donde también hay que manejar datos y modelos.\n",
    "\n",
    "Herramientas en AWS\n",
    "\n",
    "Con Amazon SageMaker se pueden aplicar MLOps más fácil.\n",
    "\n",
    "Experimentos: guardan qué datos y parámetros usaste.\n",
    "\n",
    "Pipelines: arman pasos automáticos para entrenar y desplegar.\n",
    "\n",
    "Registro de modelos: lleva el control de todas las versiones de un modelo.\n"
   ],
   "id": "2c38819fda19ea2d"
  },
  {
   "metadata": {},
   "cell_type": "code",
   "outputs": [],
   "execution_count": null,
   "source": "",
   "id": "83c5f8dcbfe94e02"
  }
 ],
 "metadata": {
  "kernelspec": {
   "display_name": "Python 3",
   "language": "python",
   "name": "python3"
  },
  "language_info": {
   "codemirror_mode": {
    "name": "ipython",
    "version": 2
   },
   "file_extension": ".py",
   "mimetype": "text/x-python",
   "name": "python",
   "nbconvert_exporter": "python",
   "pygments_lexer": "ipython2",
   "version": "2.7.6"
  }
 },
 "nbformat": 4,
 "nbformat_minor": 5
}
